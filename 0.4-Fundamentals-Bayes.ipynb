{
 "cells": [
  {
   "cell_type": "markdown",
   "metadata": {},
   "source": [
    "# Introduction to the Bayes Theorem"
   ]
  },
  {
   "cell_type": "markdown",
   "metadata": {},
   "source": [
    "## Bayes' Rule\n",
    "\n",
    "从前面概率规则开始，可以看到我们能通过以下方式从条件概率到联合概率：\n",
    "\n",
    "$$P(A,B) = P(A|B) P(B)$$   \n",
    "\n",
    "我们变一下顺序能做同样的事情：\n",
    "\n",
    "$$P(A,B) = P(B|A) P(A)$$ \n",
    "\n",
    "设置这两个相等并求解两个条件概率之一，我们得到：\n",
    "\n",
    "$$P(A|B) = \\frac{P(B|A)P(A)}{P(B)}$$\n",
    "\n",
    "这被称为贝叶斯规则。\n",
    "\n",
    "请注意，离散和连续随机变量的任何组合也可以作为研究，例如，假设 X 是离散随机变量，Y 是连续随机变量，使用 X 的概率和 Y 的密度进行说明，我们有：\n",
    "\n",
    "$$P(X=x|Y=y)=\\frac{f_{Y|X=x}(y)P(X=x)}{f_Y(y)}$$\n",
    "\n",
    "<hr style=\"border:2px solid blue\"> </hr>"
   ]
  },
  {
   "cell_type": "markdown",
   "metadata": {},
   "source": [
    "### Bayes' rule for updating probabilities\n",
    "\n",
    "假设我们有兴趣进行测试以确定我们是否患有某种疾病，例如 COVID-19。当我们进行测试时，我们被告知在我们的地区，有 5% 的人口患有这种疾病。\n",
    "\n",
    "我们得病的概率有多大？？没有其他信息，我们只是从总体中随机抽取，所以 5% 是一个很好的猜测。\n",
    "\n",
    "我们知道什么信息？\n",
    "$$P(disease) = 0.05; P(\\overline{disease}) = 0.95$$\n",
    "\n",
    "注意：\\\\(\\overline{disease}\\\\) 表示非疾病。\n",
    "\n",
    "然后我们收到结果，测试结果呈阳性。我们真的被感染了吗？事实证明，这个问题不那么直截了当。这需要更多思考的，因为需要考虑测试存在的误差。解决这个问题的方法是通过贝叶斯规则。\n",
    "\n",
    "我们想要的是给定阳性测试结果我们患病的概率：\n",
    "\n",
    "$$P(disease|+ test)$$\n",
    "\n",
    "贝叶斯规则然后给出：\n",
    "\n",
    "$$P(disease|+ test) = \\frac{P(+ test|disease)P(disease)}{P(+ test)}$$\n",
    "\n",
    "\\\\(P(+ test|disease)\\\\) 和 \\\\(P(+ test)\\\\) 是什么？第一个，\\\\(P(+ test|disease)\\\\) 是测试的敏感性，或*真阳性率*。对于其中一项 COVID-19 测试，据报道测试灵敏度为 80%。 \\\\(P(+ test)\\\\) 怎么样？使用全概率定律，我们可以将其划分为更容易识别的部分：\n",
    "\n",
    "$$P(+test) = P(+test|disease)P(disease) + P(+test|\\overline{disease})P(\\overline{disease})$$\n",
    "\n",
    "$$P(disease|+ test) = \\frac{P(+ test|disease)P(disease)}{P(+test|disease)P(disease) + P(+test|\\overline{disease})P(\\overline{disease})}$$\n",
    "\n",
    "像这样划分，我们看到我们还需要一项信息：\\\\(P(+test|\\overline{disease})\\\\) 这是*误报率*。测试通常报告它们的特异性，即*真阴性率* (\\\\(P(-test|\\overline{disease})\\\\) = ) 而不是 FPR，因此我们需要转换：\n",
    "\n",
    "$$P(+test|\\overline{disease}) = 1 - P(-test|\\overline{disease}) = 1 - 0.989 = 0.011$$ \n",
    "\n",
    "我们现在可以回答我们的问题：\n",
    "\n",
    "$$P(disease|+ test) = \\frac{0.8 \\ast 0.05}{0.8\\ast 0.05 + 0.011 \\ast 0.95} = 0.79$$\n",
    "\n",
    "不是 100%，但仍然高达 79%。\n",
    "\n",
    "<hr style=\"border:2px solid blue\"> </hr>"
   ]
  },
  {
   "cell_type": "markdown",
   "metadata": {},
   "source": [
    "### Breaking down Bayes' Rule\n",
    "\n",
    "让我们来看看贝叶斯规则的各个部分。我们将在另一部分更完整地讨论这个问题。\n",
    "\n",
    "$$P(A|B) = \\frac{P(B|A)P(A)}{P(B)}$$\n",
    "\n",
    "#### Posterior\n",
    "\n",
    "左侧的 \\\\(P(A|B)\\\\) 称为后验。它是给定 B 是真的时，A 的概率或可能性。正如我们将看到的，在贝叶斯分析中，我们经常寻找后验来表示给定数据的参数分布。\n",
    "\n",
    "#### Likelihood\n",
    "\n",
    "\\\\(P(B|A)\\\\) 是似然。在我们上面的疾病示例中，这是给定疾病的阳性测试概率。在未来的问题中，我们将对给定数据的参数推断更感兴趣，这样似然将代表观察 给定参数的 数据 的可能性。\n",
    "\n",
    "#### Priors\n",
    "\n",
    "\\\\(P(A)\\\\) 被称为先验。在上面的例子中，这反映了我们的先验知识。在收集（新）数据之前，我们对自己患病的概率有了一些了解。它可以代表一种信念，可以是知情的，也可以是模糊的。\n",
    "\n",
    "上面，我们使用了一个概率，将基于人口的患病概率设置为 5%。我们可以改变使用的先验分布，也许我们有周围县的数据，并且知道平均值为 5% 并具有定义的方差。先验也可用于在后验中引入已知分布。\n",
    "\n",
    "#### Marginal\n",
    "\n",
    "分母 \\\\(P(B)\\\\) 是 B 的边际概率。这是一个常数，在许多分析中可能会被删除。\n",
    "\n",
    "使用这些术语，贝叶斯规则可以写成：\n",
    "\n",
    "$$posterior = \\frac{likelihood \\ast prior}{marginal}$$\n",
    "\n",
    "<hr style=\"border:2px solid blue\"> </hr>"
   ]
  }
 ],
 "metadata": {
  "kernelspec": {
   "display_name": "Python 3 (ipykernel)",
   "language": "python",
   "name": "python3"
  },
  "language_info": {
   "codemirror_mode": {
    "name": "ipython",
    "version": 3
   },
   "file_extension": ".py",
   "mimetype": "text/x-python",
   "name": "python",
   "nbconvert_exporter": "python",
   "pygments_lexer": "ipython3",
   "version": "3.8.10"
  }
 },
 "nbformat": 4,
 "nbformat_minor": 4
}
